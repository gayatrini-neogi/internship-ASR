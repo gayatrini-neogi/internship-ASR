{
 "cells": [
  {
   "cell_type": "code",
   "execution_count": 1,
   "metadata": {},
   "outputs": [],
   "source": [
    "from nltk.stem import WordNetLemmatizer\n",
    "lemmatizer = WordNetLemmatizer()"
   ]
  },
  {
   "cell_type": "code",
   "execution_count": 2,
   "metadata": {},
   "outputs": [
    {
     "name": "stdout",
     "output_type": "stream",
     "text": [
      "is\n",
      "are\n",
      "be\n",
      "be\n",
      "working\n",
      "work\n"
     ]
    }
   ],
   "source": [
    "# Lemmatisation depends upon the Part of Speech of the word\n",
    "# lemmatize(word, pos=NOUN)\n",
    "# the default part of speech (pos) for lemmatize method is \"n\", i.e. noun\n",
    "# we can specify part of speech (pos) value like below:\n",
    "# noun = n, verb = v, adjective = a, adverb = r\n",
    " \n",
    "print (lemmatizer.lemmatize('is')) # output: is\n",
    "print (lemmatizer.lemmatize('are')) # output: are\n",
    " \n",
    "print (lemmatizer.lemmatize('is', pos='v')) # output: be\n",
    "print (lemmatizer.lemmatize('are', pos='v')) # output: be\n",
    " \n",
    "print (lemmatizer.lemmatize('working', pos='n')) # output: working\n",
    "print (lemmatizer.lemmatize('working', pos='v')) # output: work\n"
   ]
  },
  {
   "cell_type": "code",
   "execution_count": 3,
   "metadata": {},
   "outputs": [],
   "source": [
    "from nltk.tokenize import word_tokenize\n",
    "from nltk.stem import WordNetLemmatizer"
   ]
  },
  {
   "cell_type": "code",
   "execution_count": 4,
   "metadata": {},
   "outputs": [],
   "source": [
    "text = \"A quick brown fox jumps over the lazy dog.\""
   ]
  },
  {
   "cell_type": "code",
   "execution_count": 5,
   "metadata": {},
   "outputs": [],
   "source": [
    "# Normalize text\n",
    "# NLTK considers capital letters and small letters differently.\n",
    "# For example, Fox and fox are considered as two different words.\n",
    "# Hence, we convert all letters of our text into lowercase.\n",
    "text = text.lower()"
   ]
  },
  {
   "cell_type": "code",
   "execution_count": 6,
   "metadata": {},
   "outputs": [
    {
     "name": "stdout",
     "output_type": "stream",
     "text": [
      "['a', 'quick', 'brown', 'fox', 'jumps', 'over', 'the', 'lazy', 'dog', '.']\n"
     ]
    }
   ],
   "source": [
    "# tokenize text \n",
    "words = word_tokenize(text)\n",
    " \n",
    "print (words)"
   ]
  },
  {
   "cell_type": "code",
   "execution_count": 7,
   "metadata": {},
   "outputs": [],
   "source": [
    "lemmatizer = WordNetLemmatizer()"
   ]
  },
  {
   "cell_type": "code",
   "execution_count": 8,
   "metadata": {},
   "outputs": [
    {
     "name": "stdout",
     "output_type": "stream",
     "text": [
      "['a', 'quick', 'brown', 'fox', 'jump', 'over', 'the', 'lazy', 'dog', '.']\n"
     ]
    }
   ],
   "source": [
    "words_lemma = [lemmatizer.lemmatize(word) for word in words]\n",
    " \n",
    "# The above line of code is a shorter version of the following code:\n",
    "'''\n",
    "words_lemma = []\n",
    " \n",
    "for word in words:\n",
    "    words_lemma.append(lemmatizer.lemmatize(word))\n",
    "'''\n",
    " \n",
    "#words_lemma_2 = [str(item) for item in words_lemma]\n",
    "#print (words_lemma_2)\n",
    " \n",
    "print (words_lemma)"
   ]
  }
 ],
 "metadata": {
  "kernelspec": {
   "display_name": "Python 3",
   "language": "python",
   "name": "python3"
  },
  "language_info": {
   "codemirror_mode": {
    "name": "ipython",
    "version": 3
   },
   "file_extension": ".py",
   "mimetype": "text/x-python",
   "name": "python",
   "nbconvert_exporter": "python",
   "pygments_lexer": "ipython3",
   "version": "3.7.2"
  }
 },
 "nbformat": 4,
 "nbformat_minor": 2
}
